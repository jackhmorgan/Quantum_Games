{
 "cells": [
  {
   "cell_type": "code",
   "execution_count": 11,
   "id": "f6fdabac",
   "metadata": {},
   "outputs": [],
   "source": [
    "from Quantum_Games import player, game_circuit, get_aer_result\n",
    "import numpy as np"
   ]
  },
  {
   "cell_type": "code",
   "execution_count": 12,
   "id": "590c9972",
   "metadata": {},
   "outputs": [],
   "source": [
    "class iterative_player(player):\n",
    "    def update_probabilities(self,\n",
    "                          result,\n",
    "                          values, \n",
    "                          probability_of_random\n",
    "                          ):\n",
    "        if np.random.random()>probability_of_random:\n",
    "            average_payoff = result[self.name].mean()\n",
    "            previous_strategy = self.strategy_history[-1].params[0]\n",
    "\n",
    "            r, t, s, p = values\n",
    "\n",
    "            if previous_strategy == 'I':\n",
    "                if average_payoff == r:\n",
    "                    probs = [1, 0, 0, 0]\n",
    "                else:\n",
    "                    probs = [0, 0.5, 0.5, 0]\n",
    "\n",
    "            if (previous_strategy == 'X') or (previous_strategy=='Y'):\n",
    "                if average_payoff == r:\n",
    "                    probs = [0, 0, 0, 0]\n",
    "                    probs[self.strategies.index(self.strategy_history[-1])] = 1\n",
    "                else:\n",
    "                    probs = [0, 0.5, 0.5, 0]\n",
    "        else:\n",
    "            probs = [0.25, 0.25, 0.25, 0.25]\n",
    "        \n",
    "        self.probabilities = probs"
   ]
  },
  {
   "cell_type": "code",
   "execution_count": 13,
   "id": "10d2cb10",
   "metadata": {},
   "outputs": [],
   "source": [
    "from qiskit.circuit.library import PauliGate\n",
    "\n",
    "strategies = [PauliGate('I'), PauliGate('X'), PauliGate('Y'), PauliGate('Y')]"
   ]
  },
  {
   "cell_type": "code",
   "execution_count": 14,
   "id": "4bcb4b0c",
   "metadata": {},
   "outputs": [],
   "source": [
    "import pandas as pd\n",
    "\n",
    "def two_player_prisoners_dilemma_payoff(results_df: pd.DataFrame, \n",
    "                                        values : list):\n",
    "    # Define payoff matrix\n",
    "    r, t, s, p = values\n",
    "    payoff_matrix = [[(r,r), (s,t)],\n",
    "                     [(t,s), (p, p)]]\n",
    "\n",
    "    # Create payoff Dataframe\n",
    "    payoff_df = results_df.copy()\n",
    "\n",
    "    # Assign player names to the variables p1 and p2\n",
    "    p1 = results_df.columns[0]\n",
    "    p2 = results_df.columns[1]\n",
    "\n",
    "    for shot in results_df.iterrows():\n",
    "        # Determine the circuit result for each player\n",
    "        p1_result = int(shot[1][p1])\n",
    "        p2_result = int(shot[1][p2])\n",
    "\n",
    "        # Look up payoffs in the payoff matrix\n",
    "        payoffs = payoff_matrix[p1_result][p2_result]\n",
    "\n",
    "        # Assing the resulting payoff to the proper row in the Dataframe\n",
    "        payoff_df.at[shot[0], p1] = payoffs[0]\n",
    "        payoff_df.at[shot[0], p2] = payoffs[1]\n",
    "\n",
    "    return payoff_df"
   ]
  },
  {
   "cell_type": "code",
   "execution_count": null,
   "id": "313ba0c0",
   "metadata": {},
   "outputs": [],
   "source": [
    "num_iterations = 100 # Number of iterations of the game we will play\n",
    "values = [3, 5, 0, 1] # values that determne the payoff matrix as seen in the previous cell\n",
    "p_of_rand = 0.5 # probability that a player ignores the iterative strategy and plays randomly\n",
    "\n",
    "# create players\n",
    "alice = iterative_player('alice', strategies=strategies, probabilities=[1,0,0,0])\n",
    "bob = iterative_player('bob', strategies=strategies, probabilities=[1,0,0,0])\n",
    "\n",
    "players = [alice, bob]\n",
    "\n",
    "payoffs = pd.DataFrame(columns=[player.name for player in players])\n",
    "\n",
    "for _ in range(num_iterations):\n",
    "    # play one iteration of the game\n",
    "    circuit = game_circuit(players)\n",
    "    result = get_aer_result(circuit, num_shots=1)\n",
    "    #add the results from one iteration to the full results dataframe\n",
    "    payoffs = pd.concat([payoffs, two_player_prisoners_dilemma_payoff(result, values)], ignore_index=True)\n",
    "    \n",
    "    for p in players:\n",
    "        # calculate each players next move\n",
    "        p.update_probabilities(result=payoffs, values=values, probability_of_random=p_of_rand)"
   ]
  },
  {
   "cell_type": "code",
   "execution_count": 26,
   "id": "bc3feead",
   "metadata": {},
   "outputs": [
    {
     "data": {
      "text/html": [
       "<div>\n",
       "<style scoped>\n",
       "    .dataframe tbody tr th:only-of-type {\n",
       "        vertical-align: middle;\n",
       "    }\n",
       "\n",
       "    .dataframe tbody tr th {\n",
       "        vertical-align: top;\n",
       "    }\n",
       "\n",
       "    .dataframe thead th {\n",
       "        text-align: right;\n",
       "    }\n",
       "</style>\n",
       "<table border=\"1\" class=\"dataframe\">\n",
       "  <thead>\n",
       "    <tr style=\"text-align: right;\">\n",
       "      <th></th>\n",
       "      <th>alice</th>\n",
       "      <th>bob</th>\n",
       "    </tr>\n",
       "  </thead>\n",
       "  <tbody>\n",
       "    <tr>\n",
       "      <th>count</th>\n",
       "      <td>100</td>\n",
       "      <td>100</td>\n",
       "    </tr>\n",
       "    <tr>\n",
       "      <th>unique</th>\n",
       "      <td>4</td>\n",
       "      <td>4</td>\n",
       "    </tr>\n",
       "    <tr>\n",
       "      <th>top</th>\n",
       "      <td>3</td>\n",
       "      <td>3</td>\n",
       "    </tr>\n",
       "    <tr>\n",
       "      <th>freq</th>\n",
       "      <td>39</td>\n",
       "      <td>39</td>\n",
       "    </tr>\n",
       "  </tbody>\n",
       "</table>\n",
       "</div>"
      ],
      "text/plain": [
       "        alice  bob\n",
       "count     100  100\n",
       "unique      4    4\n",
       "top         3    3\n",
       "freq       39   39"
      ]
     },
     "execution_count": 26,
     "metadata": {},
     "output_type": "execute_result"
    }
   ],
   "source": [
    "payoffs.describe()"
   ]
  },
  {
   "cell_type": "code",
   "execution_count": null,
   "id": "fa38f961",
   "metadata": {},
   "outputs": [],
   "source": [
    "stock_prices = []\n",
    "stock_price = 1.0\n",
    "\n",
    "# Convert the outcome of each iteration of the game to a change in stock price\n",
    "\n",
    "for row_sum in payoffs.sum(axis=1):\n",
    "    if row_sum == 6:\n",
    "        stock_price *= 1.0006\n",
    "        stock_prices.append(stock_price)\n",
    "\n",
    "    if row_sum == 5:\n",
    "        stock_price *= 1.0002\n",
    "        stock_prices.append(stock_price)\n",
    "\n",
    "    if row_sum == 2:\n",
    "        stock_price *= 0.9996\n",
    "        stock_prices.append(stock_price)"
   ]
  },
  {
   "cell_type": "code",
   "execution_count": 32,
   "id": "c6fd2968",
   "metadata": {},
   "outputs": [
    {
     "data": {
      "text/plain": [
       "[<matplotlib.lines.Line2D at 0x1e394af33d0>]"
      ]
     },
     "execution_count": 32,
     "metadata": {},
     "output_type": "execute_result"
    },
    {
     "data": {
      "image/png": "[encoded data removed]",
      "text/plain": [
       "<Figure size 640x480 with 1 Axes>"
      ]
     },
     "metadata": {},
     "output_type": "display_data"
    }
   ],
   "source": [
    "import matplotlib.pyplot as plt\n",
    "\n",
    "plt.plot(stock_prices)"
   ]
  },
  {
   "cell_type": "code",
   "execution_count": null,
   "id": "52c6741f",
   "metadata": {},
   "outputs": [],
   "source": []
  }
 ],
 "metadata": {
  "kernelspec": {
   "display_name": "Python 3",
   "language": "python",
   "name": "python3"
  },
  "language_info": {
   "codemirror_mode": {
    "name": "ipython",
    "version": 3
   },
   "file_extension": ".py",
   "mimetype": "text/x-python",
   "name": "python",
   "nbconvert_exporter": "python",
   "pygments_lexer": "ipython3",
   "version": "3.11.0"
  }
 },
 "nbformat": 4,
 "nbformat_minor": 5
}
