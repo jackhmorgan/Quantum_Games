{
 "cells": [
  {
   "cell_type": "code",
   "execution_count": 1,
   "metadata": {},
   "outputs": [],
   "source": [
    "from Quantum_Games import player, entanglement_layer, game_circuit, get_aer_result\n",
    "from qiskit.circuit.library import efficient_su2, real_amplitudes\n",
    "import pandas as pd\n",
    "\n",
    "from qiskit import QuantumCircuit\n",
    "import numpy as np"
   ]
  },
  {
   "cell_type": "code",
   "execution_count": 3,
   "metadata": {},
   "outputs": [],
   "source": [
    "params = [(np.random.uniform(0, 4 * np.pi), np.random.uniform(0, 4 * np.pi)) for _ in range(10)]\n",
    "strategies = [efficient_su2(1, reps=0).assign_parameters(parameters=param) for param in params]\n",
    "probabilities = [1/len(strategies) for _ in range(len(strategies))]\n",
    "\n",
    "alice = player(name='alice',\n",
    "                strategies=strategies,\n",
    "                probabilities=probabilities)"
   ]
  },
  {
   "cell_type": "code",
   "execution_count": 40,
   "metadata": {},
   "outputs": [],
   "source": [
    "params = [(np.random.uniform(0, 4 * np.pi), np.random.uniform(0, 4 * np.pi)) for _ in range(10)]\n",
    "strategies = [efficient_su2(1, reps=0).assign_parameters(parameters=param) for param in params]\n",
    "probabilities = [1/len(strategies) for _ in range(len(strategies))]\n",
    "\n",
    "bob = player(name='bob',\n",
    "                strategies=strategies,\n",
    "                probabilities=probabilities)"
   ]
  },
  {
   "cell_type": "code",
   "execution_count": 41,
   "metadata": {},
   "outputs": [],
   "source": [
    "params = [(np.random.uniform(0, 4 * np.pi), np.random.uniform(0, 4 * np.pi)) for _ in range(10)]\n",
    "strategies = [efficient_su2(1, reps=0).assign_parameters(parameters=param) for param in params]\n",
    "probabilities = [1/len(strategies) for _ in range(len(strategies))]\n",
    "\n",
    "jack = player(name='jack',\n",
    "                strategies=strategies,\n",
    "                probabilities=probabilities)"
   ]
  },
  {
   "cell_type": "code",
   "execution_count": 42,
   "metadata": {},
   "outputs": [],
   "source": [
    "referee = real_amplitudes(2, reps=1)\n",
    "referee.assign_parameters(4*np.pi*np.random.rand(referee.num_parameters), inplace=True)\n",
    "referee = referee.to_gate(label='ref')"
   ]
  },
  {
   "cell_type": "code",
   "execution_count": 52,
   "metadata": {},
   "outputs": [],
   "source": [
    "circuit = game_circuit(players=[alice, bob],\n",
    "                       #referee_ansatz=referee,\n",
    "                       #players=[alice, bob, jack],\n",
    "                       insert_barriers=True)"
   ]
  },
  {
   "cell_type": "code",
   "execution_count": 60,
   "metadata": {},
   "outputs": [
    {
     "data": {
      "image/png": "[encoded data removed]",
      "text/plain": [
       "<Figure size 1104.09x367.889 with 1 Axes>"
      ]
     },
     "execution_count": 60,
     "metadata": {},
     "output_type": "execute_result"
    }
   ],
   "source": [
    "circuit.decompose(reps=1).draw('mpl')"
   ]
  },
  {
   "cell_type": "code",
   "execution_count": 54,
   "metadata": {},
   "outputs": [],
   "source": [
    "result = get_aer_result(circuit)"
   ]
  },
  {
   "cell_type": "code",
   "execution_count": 55,
   "metadata": {},
   "outputs": [
    {
     "name": "stdout",
     "output_type": "stream",
     "text": [
      "     alice  bob\n",
      "0        0    1\n",
      "1        1    1\n",
      "2        0    1\n",
      "3        1    1\n",
      "4        0    1\n",
      "..     ...  ...\n",
      "995      0    0\n",
      "996      0    1\n",
      "997      0    1\n",
      "998      0    1\n",
      "999      0    0\n",
      "\n",
      "[1000 rows x 2 columns]\n"
     ]
    }
   ],
   "source": [
    "df = pd.DataFrame(result)\n",
    "print(df)"
   ]
  },
  {
   "cell_type": "code",
   "execution_count": 58,
   "metadata": {},
   "outputs": [],
   "source": [
    "def calculate_payout(results):\n",
    "    outcomes = {'(0, 0)' : (3,3), '(0, 1)' : (0,6),\n",
    "                '(1, 0)' : (6,0),'(1, 1)' : (1,1)}\n",
    "    player_results = {player : [] for player in result.keys()}\n",
    "    player_1 = 'alice'\n",
    "    player_2 = 'bob'\n",
    "\n",
    "    for p1, p2  in zip(results[player_1], results[player_2]):\n",
    "        p1_outcome, p2_outcome = outcomes[str((p1,p2))]\n",
    "        player_results[player_1].append(p1_outcome)\n",
    "        player_results[player_2].append(p2_outcome)\n",
    "\n",
    "    return player_results"
   ]
  },
  {
   "cell_type": "code",
   "execution_count": 59,
   "metadata": {},
   "outputs": [
    {
     "name": "stdout",
     "output_type": "stream",
     "text": [
      "Alice average result:  0.555\n",
      "Bob average result:  4.317\n"
     ]
    }
   ],
   "source": [
    "player_results = calculate_payout(result)\n",
    "\n",
    "print('Alice average result: ', np.mean(player_results['alice']))\n",
    "print('Bob average result: ', np.mean(player_results['bob']))"
   ]
  },
  {
   "cell_type": "code",
   "execution_count": null,
   "metadata": {},
   "outputs": [],
   "source": []
  },
  {
   "cell_type": "code",
   "execution_count": null,
   "metadata": {},
   "outputs": [],
   "source": []
  }
 ],
 "metadata": {
  "kernelspec": {
   "display_name": "Python 3",
   "language": "python",
   "name": "python3"
  },
  "language_info": {
   "codemirror_mode": {
    "name": "ipython",
    "version": 3
   },
   "file_extension": ".py",
   "mimetype": "text/x-python",
   "name": "python",
   "nbconvert_exporter": "python",
   "pygments_lexer": "ipython3",
   "version": "3.11.0"
  }
 },
 "nbformat": 4,
 "nbformat_minor": 2
}
