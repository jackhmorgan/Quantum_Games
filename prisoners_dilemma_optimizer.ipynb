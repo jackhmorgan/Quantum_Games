{
 "cells": [
  {
   "cell_type": "code",
   "execution_count": 1,
   "metadata": {},
   "outputs": [],
   "source": [
    "from scipy.optimize import minimize\n",
    "import numpy as np\n",
    "import pandas as pd\n",
    "from qiskit.circuit.library import efficient_su2\n",
    "from Quantum_Games import game_circuit, player, prisoners_dilemma_payoff_calculator, get_aer_result"
   ]
  },
  {
   "cell_type": "code",
   "execution_count": 2,
   "metadata": {},
   "outputs": [],
   "source": [
    "params = [(i*4*np.pi, i*4*np.pi) for i in np.linspace(0, 1, 10)]\n",
    "strategies = [efficient_su2(1, reps=0).assign_parameters(parameters=param) for param in params]\n",
    "n_players = 2"
   ]
  },
  {
   "cell_type": "code",
   "execution_count": 4,
   "metadata": {},
   "outputs": [],
   "source": [
    "from qiskit.circuit.library import UnitaryGate\n",
    "\n",
    "long = UnitaryGate([[1, 0], [0, 1]])\n",
    "short = UnitaryGate([[0, 1], [1, 0]])\n",
    "quantum_long = UnitaryGate([[1j, 0], [0, -1j]])\n",
    "quantum_short = UnitaryGate([[0, -1j],[-1j, 0]])\n",
    "strategies = [long, quantum_long, quantum_short, short]\n"
   ]
  },
  {
   "cell_type": "code",
   "execution_count": 5,
   "metadata": {},
   "outputs": [],
   "source": [
    "def payoff(theta):\n",
    "    players = []\n",
    "\n",
    "    probs = theta.tolist()\n",
    "    norm = sum(probs)\n",
    "\n",
    "    if norm >= 1:\n",
    "        return norm\n",
    "    \n",
    "    probs.append(1-norm)\n",
    "    print(probs)\n",
    "    for i in range(n_players):\n",
    "        players.append(player(name = f'player_{i}', strategies=strategies, probabilities=probs))\n",
    "\n",
    "    #num_strats = len(strategies)\n",
    "    #probs_assignments = [theta[i:i + num_strats] for i in range(0, len(theta), num_strats)]\n",
    "    #for i in range(len(probs_assignments)):\n",
    "        #players.append(player(name = f'player_{i}', strategies=strategies, probabilities=probs_assignments[i]))\n",
    "    \n",
    "    circuit = game_circuit(players=players)\n",
    "    result = get_aer_result(circuit)\n",
    "    result_df = pd.DataFrame(result)\n",
    "    payoffs = prisoners_dilemma_payoff_calculator(result_df)\n",
    "    ave_payoff = -payoffs.values.mean()\n",
    "    print(ave_payoff)\n",
    "    return ave_payoff\n"
   ]
  },
  {
   "cell_type": "code",
   "execution_count": 6,
   "metadata": {},
   "outputs": [
    {
     "name": "stdout",
     "output_type": "stream",
     "text": [
      "[0.2964439  0.15479967 0.14305925]\n",
      "[0.2964438968125692, 0.15479967099321654, 0.14305924773908993, 0.40569718445512426]\n",
      "-0.5\n",
      "[0.2964439117137304, 0.15479967099321654, 0.14305924773908993, 0.40569716955396307]\n",
      "-1.0\n",
      "[0.2964438968125692, 0.15479968589437773, 0.14305924773908993, 0.40569716955396307]\n",
      "-0.0\n",
      "[0.2964438968125692, 0.15479967099321654, 0.14305926264025112, 0.40569716955396307]\n",
      "-0.0\n",
      "[0.6482214643278366, 0.07740044200510146, 0.07153022230009548, 0.20284787136696658]\n",
      "-0.5\n",
      "[0.47233268057020283, 0.116100056499159, 0.1072947350195927, 0.3042725279110454]\n",
      "-0.5\n",
      "[0.384388288691386, 0.13544986374618778, 0.12517699137934132, 0.35498485618308484]\n",
      "-1.0\n",
      "[0.34041609798648326, 0.14512476621798945, 0.13411811849485245, 0.3803410173006748]\n",
      "-1.0\n",
      "[0.3184300026340324, 0.14996221745389013, 0.1385886820526079, 0.39301909785946954]\n",
      "-0.5\n",
      "[0.3074369497233008, 0.15238094422355333, 0.14082396489584892, 0.39935814115729695]\n",
      "-0.5\n",
      "[0.301940423267935, 0.15359030760838494, 0.1419416063174694, 0.40252766280621066]\n",
      "-1.0\n",
      "[0.29919216527476705, 0.15419498814908597, 0.1425004259639146, 0.4041124206122324]\n",
      "-0.5\n",
      "[0.29781803104366816, 0.15449732957115125, 0.14277983685150228, 0.40490480253367833]\n",
      "-0.0\n",
      "[0.2971309586936536, 0.1546485014338877, 0.142919543359651, 0.4053009965128077]\n",
      "-0.0\n",
      "[0.2971309735948148, 0.1546485014338877, 0.142919543359651, 0.4053009816116465]\n",
      "-0.5\n",
      "[0.2971309586936536, 0.1546485163350489, 0.142919543359651, 0.4053009816116465]\n",
      "-0.5\n",
      "[0.2971309586936536, 0.1546485014338877, 0.1429195582608122, 0.4053009816116465]\n",
      "-0.5\n"
     ]
    }
   ],
   "source": [
    "x0 = np.random.rand(2*n_players)\n",
    "x0 = x0/sum(x0)\n",
    "x0 = x0 [:-1]\n",
    "print(x0)\n",
    "constraints = {'type': 'ineq', 'fun': lambda x: 1 - np.sum(x)}\n",
    "bounds = [(1e-6, 1.0) for _ in range(len(x0))] \n",
    "result = minimize(fun=payoff,\n",
    "                  method='SLSQP',\n",
    "                  bounds=bounds,\n",
    "                  constraints=constraints,\n",
    "                  x0=x0)"
   ]
  },
  {
   "cell_type": "code",
   "execution_count": 7,
   "metadata": {},
   "outputs": [
    {
     "data": {
      "text/plain": [
       " message: Inequality constraints incompatible\n",
       " success: False\n",
       "  status: 4\n",
       "     fun: -0.0\n",
       "       x: [ 2.971e-01  1.546e-01  1.429e-01]\n",
       "     nit: 2\n",
       "     jac: [-3.355e+07 -3.355e+07 -3.355e+07]\n",
       "    nfev: 18\n",
       "    njev: 2"
      ]
     },
     "execution_count": 7,
     "metadata": {},
     "output_type": "execute_result"
    }
   ],
   "source": [
    "result"
   ]
  },
  {
   "cell_type": "code",
   "execution_count": 8,
   "metadata": {},
   "outputs": [],
   "source": [
    "def generate_initial_simplex(theta_0, perturbation_size=0.05):\n",
    "    \"\"\"\n",
    "    Generates an initial simplex for the Nelder-Mead algorithm.\n",
    "\n",
    "    Parameters:\n",
    "        theta_0 (np.array): Initial guess (starting point) as a 1D array.\n",
    "        perturbation_size (float): Size of the perturbation for each dimension.\n",
    "\n",
    "    Returns:\n",
    "        np.array: A (n+1, n) array representing the initial simplex.\n",
    "    \"\"\"\n",
    "    n = len(theta_0)  # Number of dimensions\n",
    "    simplex = np.zeros((n + 1, n))  # Initialize simplex matrix\n",
    "\n",
    "    # First vertex is the initial guess\n",
    "    simplex[0] = theta_0\n",
    "\n",
    "    # Generate the remaining vertices by perturbing each dimension\n",
    "    for i in range(n):\n",
    "        vertex = theta_0.copy()\n",
    "        vertex[i] += perturbation_size  # Perturb the i-th dimension\n",
    "        simplex[i + 1] = vertex\n",
    "\n",
    "    return simplex"
   ]
  },
  {
   "cell_type": "code",
   "execution_count": 11,
   "metadata": {},
   "outputs": [
    {
     "name": "stdout",
     "output_type": "stream",
     "text": [
      "[0.16280900543526727, 0.22668651505834908, 0.2147234743718683, 0.3957810051345153]\n",
      "-0.0\n",
      "[0.7183645609908229, 1e-06, 0.07157515812395607, 0.21005928088522097]\n",
      "-0.0\n",
      "[0.25540159802786, 0.29778506057500526, 1e-06, 0.44681234139713466]\n",
      "-0.5\n",
      "[0.05169789432415639, 0.3333343333333333, 1e-06, 0.6149667723425103]\n",
      "-0.0\n",
      "[0.2615744375340327, 1e-06, 0.1908654216638829, 0.5475591408020845]\n",
      "-0.0\n",
      "[0.32021641284267466, 1e-06, 0.1431493162479122, 0.5366332709094132]\n",
      "-0.5\n",
      "[1e-06, 0.3496473837555696, 0.16700736895589763, 0.48334424728853276]\n",
      "-1.0\n",
      "[1e-06, 0.5244705756333544, 0.2147234743718684, 0.2608049499947771]\n",
      "-0.0\n",
      "[0.2209370018117558, 0.20493578116203415, 1e-06, 0.57412621702621]\n",
      "-0.0\n",
      "[0.1773410045293894, 0.22124883158427033, 0.15905468471990247, 0.4423554791664378]\n",
      "-1.0\n",
      "[1e-06, 0.5791198506098968, 0.07422605286928785, 0.34665309652081533]\n",
      "-1.0\n",
      "[1e-06, 0.4688923167248192, 0.26685773769672533, 0.2642489455784556]\n",
      "-0.0\n",
      "[0.1572579664354949, 0.34056187461245874, 0.06671518442418133, 0.43546497452786503]\n",
      "-1.0\n",
      "[1e-06, 0.4261155026873657, 0.20014355327254396, 0.37373994404009037]\n",
      "-0.0\n",
      "[0.10818615063931235, 0.3619502816311855, 0.100072276636272, 0.4297912910932302]\n",
      "-0.5\n",
      "[0.0886710022646947, 0.28544810766991996, 0.16303102683790005, 0.46284986322748534]\n",
      "-1.0\n",
      "[1e-06, 0.4643836171827332, 0.12061671091259274, 0.4149986719046741]\n",
      "-0.0\n",
      "[0.07862948321774745, 0.3451046291840142, 0.11686127669003948, 0.45940461090819884]\n",
      "-1.0\n",
      "[0.11153332365496142, 0.18908312989026937, 0.17731640407663202, 0.5220671423781371]\n",
      "-1.0\n",
      "[0.08365024274122107, 0.2579082517133854, 0.16314148078562218, 0.4953000247597714]\n",
      "-0.0\n",
      "[0.04433600113234735, 0.3175477457127448, 0.16501919789689884, 0.47309705525800894]\n",
      "-1.0\n",
      "[0.03931524160887372, 0.3473760064697919, 0.14193432282296856, 0.4713744290983658]\n",
      "-0.0\n",
      "[1e-06, 0.40701550046915136, 0.14381203993424518, 0.44917145959660343]\n",
      "-0.0\n",
      "[0.05576716182748071, 0.26936525682291945, 0.1721618865162648, 0.502705694833335]\n",
      "-0.0\n",
      "[0.013942540456870179, 0.3726029395575934, 0.15089950157975007, 0.4625550184057864]\n",
      "-0.0\n",
      "[0.022168500566173675, 0.3335975647341572, 0.16601328342639823, 0.47822065127327085]\n",
      "-1.0\n",
      "[0.019658120804436862, 0.34851169511268076, 0.1544708458894331, 0.47735933819344933]\n",
      "-0.0\n",
      "[1e-06, 0.37833144211236047, 0.1554097044450714, 0.4662578534425681]\n",
      "-0.0\n",
      "[0.027884080913740356, 0.3095063202892445, 0.16958462773608124, 0.4930249710609339]\n",
      "-1.0\n",
      "[0.013710933515505824, 0.3133224840733001, 0.18059934085615165, 0.4923672415550424]\n",
      "-1.0\n",
      "[0.015197730337738581, 0.32211978683314524, 0.174067217114472, 0.4886152657146442]\n",
      "-0.0\n",
      "[0.011084750283086836, 0.34162247424486336, 0.16651032619114792, 0.48078244928090186]\n",
      "-0.0\n",
      "[0.013942540456870177, 0.32957685202240705, 0.16829599834598943, 0.4881846091747334]\n",
      "-0.0\n",
      "[0.00982956040221843, 0.3490795394341252, 0.16073910742266537, 0.48035179274099105]\n",
      "-1.0\n",
      "[1e-06, 0.36398941293396503, 0.16120853670048454, 0.4748010503655504]\n",
      "-1.0\n",
      "[1e-06, 0.36685508317090987, 0.15945968252821713, 0.47368423430087303]\n",
      "-0.0\n",
      "[0.007180968541913156, 0.34793062647637496, 0.16474766527541523, 0.48014073970629667]\n",
      "-0.0\n",
      "[0.004915280201109215, 0.3493634615948474, 0.1638732381892815, 0.4818480200147619]\n",
      "-1.0\n",
      "[1e-06, 0.3568183983447673, 0.16410795282819107, 0.4790726488270416]\n",
      "-1.0\n",
      "[0.0055428751415434185, 0.3456349290002165, 0.16675884757352277, 0.4820633482847173]\n",
      "-1.0\n"
     ]
    }
   ],
   "source": [
    "x0 = np.random.rand(2*n_players)\n",
    "x0 = x0/sum(x0)\n",
    "x0 = x0 [:-1]\n",
    "initial_simplex = generate_initial_simplex(x0, perturbation_size=0.5)\n",
    "result = minimize(fun=payoff,\n",
    "                  x0 = x0,\n",
    "                  method='Nelder-Mead',\n",
    "                  bounds = bounds,\n",
    "                  tol=1e-2,\n",
    "                  options = {'maxiter': 100,\n",
    "                             'initial_simplex' : initial_simplex,\n",
    "                            }\n",
    "                 )"
   ]
  },
  {
   "cell_type": "code",
   "execution_count": 12,
   "metadata": {},
   "outputs": [
    {
     "data": {
      "text/plain": [
       "       message: Optimization terminated successfully.\n",
       "       success: True\n",
       "        status: 0\n",
       "           fun: -1.0\n",
       "             x: [ 1.000e-06  3.496e-01  1.670e-01]\n",
       "           nit: 16\n",
       "          nfev: 44\n",
       " final_simplex: (array([[ 1.000e-06,  3.496e-01,  1.670e-01],\n",
       "                       [ 4.915e-03,  3.494e-01,  1.639e-01],\n",
       "                       [ 1.000e-06,  3.568e-01,  1.641e-01],\n",
       "                       [ 5.543e-03,  3.456e-01,  1.668e-01]]), array([-1.000e+00, -1.000e+00, -1.000e+00, -1.000e+00]))"
      ]
     },
     "execution_count": 12,
     "metadata": {},
     "output_type": "execute_result"
    }
   ],
   "source": [
    "result"
   ]
  },
  {
   "cell_type": "code",
   "execution_count": null,
   "metadata": {},
   "outputs": [],
   "source": []
  }
 ],
 "metadata": {
  "kernelspec": {
   "display_name": "Python 3",
   "language": "python",
   "name": "python3"
  },
  "language_info": {
   "codemirror_mode": {
    "name": "ipython",
    "version": 3
   },
   "file_extension": ".py",
   "mimetype": "text/x-python",
   "name": "python",
   "nbconvert_exporter": "python",
   "pygments_lexer": "ipython3",
   "version": "3.11.0"
  }
 },
 "nbformat": 4,
 "nbformat_minor": 2
}
