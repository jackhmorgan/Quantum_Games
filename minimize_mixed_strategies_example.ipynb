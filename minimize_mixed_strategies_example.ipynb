{
 "cells": [
  {
   "cell_type": "markdown",
   "id": "c544689e",
   "metadata": {},
   "source": [
    "### Example code for finding local optima for mixed strategies\n",
    "\n",
    "In this example, we are looking at two players who can either play:\n",
    " - classical long \n",
    " $$\n",
    " \\begin{pmatrix}\n",
    " 1 & 0 \\\\\n",
    " 0 & 1\n",
    " \\end{pmatrix}\n",
    " $$\n",
    " - quantum long\n",
    "  $$\n",
    " \\begin{pmatrix}\n",
    " i & 0 \\\\\n",
    " 0 & -1\n",
    " \\end{pmatrix}\n",
    " $$\n",
    " - quantum short\n",
    "  $$\n",
    " \\begin{pmatrix}\n",
    " 0 & -i \\\\\n",
    " -i & 0\n",
    " \\end{pmatrix}\n",
    " $$\n",
    " - classical short\n",
    "  $$\n",
    " \\begin{pmatrix}\n",
    " 0 & 1 \\\\\n",
    " -1 & 0\n",
    " \\end{pmatrix}\n",
    " $$\n",
    "\n",
    " Each player will play each strategy with probability p0, p1, p2, or p3 respectively. We assume both players are using the same set of probabilities.\n",
    "\n",
    " To define the game they are playing, we need to determine the payoff to each player based on the measurement outcome. This function will input a dataframe of shot outcomes for each player, and output a dataframe of the payoff for each player for that shot. Here is a simple example:"
   ]
  },
  {
   "cell_type": "code",
   "execution_count": 1,
   "id": "c11ae9f8",
   "metadata": {},
   "outputs": [],
   "source": [
    "import pandas as pd\n",
    "\n",
    "def two_player_prisoners_dilemma_payoff(results_df: pd.DataFrame):\n",
    "    # Define payoff matrix\n",
    "    payoff_matrix = [[(3,3), (5,0)],\n",
    "                     [(0,5), (1,1)]]\n",
    "\n",
    "    # Create payoff Dataframe\n",
    "    payoff_df = results_df.copy()\n",
    "\n",
    "    # Assign player names to the variables p1 and p2\n",
    "    p1 = results_df.columns[0]\n",
    "    p2 = results_df.columns[1]\n",
    "\n",
    "    for shot in results_df.iterrows():\n",
    "        # Determine the circuit result for each player\n",
    "        p1_result = int(shot[1][p1])\n",
    "        p2_result = int(shot[1][p2])\n",
    "\n",
    "        # Look up payoffs in the payoff matrix\n",
    "        payoffs = payoff_matrix[p1_result][p2_result]\n",
    "\n",
    "        # Assing the resulting payoff to the proper row in the Dataframe\n",
    "        payoff_df.at[shot[0], p1] = payoffs[0]\n",
    "        payoff_df.at[shot[0], p2] = payoffs[1]\n",
    "\n",
    "    return payoff_df"
   ]
  },
  {
   "cell_type": "markdown",
   "id": "14a173f6",
   "metadata": {},
   "source": [
    "Here is a demonstration of how the payoff function works. We begin with two players who played the game 3 times, with the resulting measurements |1>, |0>, |1> and |0>, |0>, |1> respectively. Here would be their payoffs for each round of the simple prisoners dilemma game:"
   ]
  },
  {
   "cell_type": "code",
   "execution_count": 2,
   "id": "5dbc4986",
   "metadata": {},
   "outputs": [
    {
     "data": {
      "text/html": [
       "<div>\n",
       "<style scoped>\n",
       "    .dataframe tbody tr th:only-of-type {\n",
       "        vertical-align: middle;\n",
       "    }\n",
       "\n",
       "    .dataframe tbody tr th {\n",
       "        vertical-align: top;\n",
       "    }\n",
       "\n",
       "    .dataframe thead th {\n",
       "        text-align: right;\n",
       "    }\n",
       "</style>\n",
       "<table border=\"1\" class=\"dataframe\">\n",
       "  <thead>\n",
       "    <tr style=\"text-align: right;\">\n",
       "      <th></th>\n",
       "      <th>player_1</th>\n",
       "      <th>player_2</th>\n",
       "    </tr>\n",
       "  </thead>\n",
       "  <tbody>\n",
       "    <tr>\n",
       "      <th>0</th>\n",
       "      <td>0</td>\n",
       "      <td>5</td>\n",
       "    </tr>\n",
       "    <tr>\n",
       "      <th>1</th>\n",
       "      <td>3</td>\n",
       "      <td>3</td>\n",
       "    </tr>\n",
       "    <tr>\n",
       "      <th>2</th>\n",
       "      <td>1</td>\n",
       "      <td>1</td>\n",
       "    </tr>\n",
       "  </tbody>\n",
       "</table>\n",
       "</div>"
      ],
      "text/plain": [
       "   player_1  player_2\n",
       "0         0         5\n",
       "1         3         3\n",
       "2         1         1"
      ]
     },
     "execution_count": 2,
     "metadata": {},
     "output_type": "execute_result"
    }
   ],
   "source": [
    "test_df = pd.DataFrame({'player_1': [1, 0, 1],\n",
    " 'player_2': [0, 0, 1]})\n",
    "\n",
    "two_player_prisoners_dilemma_payoff(test_df)"
   ]
  },
  {
   "cell_type": "markdown",
   "id": "6e24ec68",
   "metadata": {},
   "source": [
    "Next, we create a minimizer using the defined payoff function. The minimizer takes optional arguments that can be used to modify the number of players, their pure strategy options, the number of shots per iteration, and the circuit execution method."
   ]
  },
  {
   "cell_type": "code",
   "execution_count": 3,
   "id": "572f7585",
   "metadata": {},
   "outputs": [],
   "source": [
    "from Quantum_Games import minimize_mixed_strategies\n",
    "\n",
    "minimizer = minimize_mixed_strategies(two_player_prisoners_dilemma_payoff)"
   ]
  },
  {
   "cell_type": "markdown",
   "id": "5fa1cd89",
   "metadata": {},
   "source": [
    "We then call the minimizer.minimize() method. By default this will use the Scipy.optimize Nelder-Mead implementation, however we can use any optional arguments from the Scipy optimizer - https://docs.scipy.org/doc/scipy/reference/generated/scipy.optimize.minimize.html\n",
    "\n",
    "To demonstrate let's try with the COBYLA optimizer:"
   ]
  },
  {
   "cell_type": "code",
   "execution_count": 5,
   "id": "cf89d6d0",
   "metadata": {},
   "outputs": [],
   "source": [
    "result = minimizer.minimize(method='COBYLA')"
   ]
  },
  {
   "cell_type": "markdown",
   "id": "61018701",
   "metadata": {},
   "source": [
    "The result gives us the full optimization result information. Recall our definition of p1, p2, p3 and p4 from above. Let the optimized parameter vector $$x = [x_1, x_2, x_3]$$, then the quantum mixed strategy is p1 = x1, p2=x2, p3=x3, p4= 1-x1-x2-x3."
   ]
  },
  {
   "cell_type": "code",
   "execution_count": 7,
   "id": "5c5ad033",
   "metadata": {},
   "outputs": [
    {
     "name": "stdout",
     "output_type": "stream",
     "text": [
      "probability of classical long: 0.31027461063121226\n",
      "probability of quantum long: 0.21974676836376072\n",
      "probability of quantum short: 0.381897278629054\n",
      "probability of classical short: 0.08808134237597298\n"
     ]
    }
   ],
   "source": [
    "print('probability of classical long:', result.x[0])\n",
    "print('probability of quantum long:', result.x[1])\n",
    "print('probability of quantum short:', result.x[2])\n",
    "print('probability of classical short:', 1-sum(result.x))"
   ]
  }
 ],
 "metadata": {
  "kernelspec": {
   "display_name": "Python 3",
   "language": "python",
   "name": "python3"
  },
  "language_info": {
   "codemirror_mode": {
    "name": "ipython",
    "version": 3
   },
   "file_extension": ".py",
   "mimetype": "text/x-python",
   "name": "python",
   "nbconvert_exporter": "python",
   "pygments_lexer": "ipython3",
   "version": "3.11.0"
  }
 },
 "nbformat": 4,
 "nbformat_minor": 5
}
